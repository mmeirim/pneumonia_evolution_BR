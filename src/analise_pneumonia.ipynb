{
 "cells": [
  {
   "cell_type": "markdown",
   "metadata": {},
   "source": [
    "## Importação dos dados"
   ]
  },
  {
   "cell_type": "code",
   "execution_count": null,
   "metadata": {},
   "outputs": [],
   "source": [
    "# Leitura de dados\n",
    "import sys\n",
    "import subprocess\n",
    "import pkg_resources\n",
    "\n",
    "if {'pandas'} not in {pkg.key for pkg in pkg_resources.working_set}:\n",
    "    subprocess.check_call([sys.executable, '-m', 'pip', 'install','pandas'], stdout=subprocess.DEVNULL)\n",
    "\n",
    "if {'numpy'} not in {pkg.key for pkg in pkg_resources.working_set}:\n",
    "    subprocess.check_call([sys.executable, '-m', 'pip', 'install','numpy'], stdout=subprocess.DEVNULL)\n",
    "\n",
    "if {'matplotlib'} not in {pkg.key for pkg in pkg_resources.working_set}:\n",
    "    subprocess.check_call([sys.executable, '-m', 'pip', 'install','matplotlib'], stdout=subprocess.DEVNULL)\n",
    "\n",
    "if {'seaborn'} not in {pkg.key for pkg in pkg_resources.working_set}:\n",
    "    subprocess.check_call([sys.executable, '-m', 'pip', 'install','seaborn'], stdout=subprocess.DEVNULL)\n",
    "\n",
    "if {'sklearn'} not in {pkg.key for pkg in pkg_resources.working_set}:\n",
    "    subprocess.check_call([sys.executable, '-m', 'pip', 'install','sklearn'], stdout=subprocess.DEVNULL)\n",
    "\n",
    "import matplotlib.pyplot as plt \n",
    "import os\n",
    "import pickle\n",
    "import pandas as pd\n",
    "import numpy as np\n",
    "import datetime\n",
    "import seaborn as sns"
   ]
  },
  {
   "cell_type": "code",
   "execution_count": null,
   "metadata": {},
   "outputs": [],
   "source": [
    "base = pd.read_csv('../data/sih_aih_env_2011_2020_pneucom.csv',sep=',')\n",
    "\n",
    "# https://raw.githubusercontent.com/lslbastos/ibge_population_projection/main/output/data_pop_ibge_proj_2010-2016.csv"
   ]
  },
  {
   "cell_type": "markdown",
   "metadata": {},
   "source": [
    "### População de Referencia (por faixa etária e ano no RJ)"
   ]
  },
  {
   "cell_type": "code",
   "execution_count": null,
   "metadata": {},
   "outputs": [],
   "source": [
    "pop_ref = pd.read_csv('https://raw.githubusercontent.com/lslbastos/ibge_population_projection/main/output/data_pop_ibge_proj_2010-2016.csv',sep=',')"
   ]
  },
  {
   "cell_type": "code",
   "execution_count": null,
   "metadata": {},
   "outputs": [],
   "source": [
    "pop_ref.head()"
   ]
  },
  {
   "cell_type": "code",
   "execution_count": null,
   "metadata": {},
   "outputs": [],
   "source": [
    "pop_ref['sex'].unique()"
   ]
  },
  {
   "cell_type": "code",
   "execution_count": null,
   "metadata": {},
   "outputs": [],
   "source": [
    "pop_ref = pop_ref[(pop_ref['age']!='TOTAL') & (pop_ref['uf']=='BR') & (pop_ref['sex']=='all') & (pop_ref['year'].isin(range(2011,2020)))]"
   ]
  },
  {
   "cell_type": "code",
   "execution_count": null,
   "metadata": {},
   "outputs": [],
   "source": [
    "pop_ref['age'] = pop_ref['age'].astype(int)"
   ]
  },
  {
   "cell_type": "code",
   "execution_count": null,
   "metadata": {},
   "outputs": [],
   "source": [
    "pop_ref.head()"
   ]
  },
  {
   "cell_type": "code",
   "execution_count": null,
   "metadata": {},
   "outputs": [],
   "source": [
    "idadeWHO = base.groupby(['idade_grupo_who','idade_real_anos']).agg({'id':'count'}).reset_index()\n",
    "idadeWHO.drop('id',axis=1,inplace=True)\n",
    "idadeWHO"
   ]
  },
  {
   "cell_type": "code",
   "execution_count": null,
   "metadata": {},
   "outputs": [],
   "source": [
    "pop_ref = pd.merge(pop_ref,idadeWHO, how='left', left_on='age',right_on='idade_real_anos')"
   ]
  },
  {
   "cell_type": "code",
   "execution_count": null,
   "metadata": {},
   "outputs": [],
   "source": [
    "pop_ref"
   ]
  },
  {
   "cell_type": "code",
   "execution_count": null,
   "metadata": {},
   "outputs": [],
   "source": [
    "pop_ref[pop_ref['year']==2011]"
   ]
  },
  {
   "cell_type": "code",
   "execution_count": null,
   "metadata": {},
   "outputs": [],
   "source": [
    "pop_ref = pop_ref.groupby(['year','idade_grupo_who']).agg({'population':'sum'}).reset_index()\n",
    "pop_ref"
   ]
  },
  {
   "cell_type": "markdown",
   "metadata": {},
   "source": [
    "### População de Referência (por sexo e ano no RJ)"
   ]
  },
  {
   "cell_type": "code",
   "execution_count": null,
   "metadata": {},
   "outputs": [],
   "source": [
    "pop_ref_by_sex = pd.read_csv('https://raw.githubusercontent.com/lslbastos/ibge_population_projection/main/output/data_pop_ibge_proj_2010-2016.csv',sep=',')\n",
    "\n",
    "pop_ref_by_sex = pop_ref_by_sex[(pop_ref_by_sex['age']!='TOTAL') & (pop_ref_by_sex['uf']=='BR') & (pop_ref_by_sex['year'].isin(range(2011,2020)))]\n",
    "pop_ref_by_sex['age'] = pop_ref_by_sex['age'].astype(int)\n",
    "pop_ref_by_sex = pop_ref_by_sex[pop_ref_by_sex['age']>=20].groupby(['sex','year']).agg({'population':'sum'}).reset_index()\n",
    "pop_ref_by_sex.columns"
   ]
  },
  {
   "cell_type": "markdown",
   "metadata": {},
   "source": [
    "### Base de Dados do CID-10"
   ]
  },
  {
   "cell_type": "code",
   "execution_count": null,
   "metadata": {},
   "outputs": [],
   "source": [
    "subprocess.check_call([sys.executable, '-m', 'pip', 'install','openpyxl'], stdout=subprocess.DEVNULL)"
   ]
  },
  {
   "cell_type": "code",
   "execution_count": null,
   "metadata": {},
   "outputs": [],
   "source": [
    "#cid10 = pd.read_csv('cids_diag_ahrq_css_br - Copy.csv',sep=',') \n",
    "\n",
    "cid10 = pd.read_excel ('../data/cids_diag_ahrq_css_br_v5.xlsx')"
   ]
  },
  {
   "cell_type": "code",
   "execution_count": null,
   "metadata": {},
   "outputs": [],
   "source": [
    "cid10"
   ]
  },
  {
   "cell_type": "code",
   "execution_count": null,
   "metadata": {},
   "outputs": [],
   "source": [
    "#cid10 = cid10[['icd10_br','cid_10_gen_categ','cid_10_det_categ','ccs_lvl_2_label','class_abritrario']]"
   ]
  },
  {
   "cell_type": "markdown",
   "metadata": {},
   "source": [
    "### Base de Dados do CNES"
   ]
  },
  {
   "cell_type": "code",
   "execution_count": null,
   "metadata": {},
   "outputs": [],
   "source": [
    "cnes = pd.read_csv('../data/cnes_estabelecimentos.csv',sep=';',encoding='unicode_escape')\n",
    "#cnes = pd.read_csv('estabelecimentos-330000.csv',sep=';')"
   ]
  },
  {
   "cell_type": "code",
   "execution_count": null,
   "metadata": {},
   "outputs": [],
   "source": [
    "cnes.shape"
   ]
  },
  {
   "cell_type": "code",
   "execution_count": null,
   "metadata": {},
   "outputs": [],
   "source": [
    "cnes.head()"
   ]
  },
  {
   "cell_type": "code",
   "execution_count": null,
   "metadata": {},
   "outputs": [],
   "source": [
    "cnes_prof = pd.read_csv('../data/profissionais-330000.csv',sep=';')"
   ]
  },
  {
   "cell_type": "code",
   "execution_count": null,
   "metadata": {},
   "outputs": [],
   "source": [
    "cnes_prof.head()"
   ]
  },
  {
   "cell_type": "code",
   "execution_count": null,
   "metadata": {},
   "outputs": [],
   "source": [
    "cnes_pf = cnes_prof.groupby('CNES').agg({'NOME':'count'}).reset_index()\n",
    "cnes_pf.columns = ['cnes','qnt_prof']"
   ]
  },
  {
   "cell_type": "code",
   "execution_count": null,
   "metadata": {},
   "outputs": [],
   "source": [
    "cnes = pd.merge(cnes,cnes_pf,how='left',left_on='CO_CNES',right_on='cnes')"
   ]
  },
  {
   "cell_type": "code",
   "execution_count": null,
   "metadata": {},
   "outputs": [],
   "source": [
    "cnes.head()"
   ]
  },
  {
   "cell_type": "markdown",
   "metadata": {},
   "source": [
    "## Filtrando a Base"
   ]
  },
  {
   "cell_type": "code",
   "execution_count": null,
   "metadata": {},
   "outputs": [],
   "source": [
    "base.head()"
   ]
  },
  {
   "cell_type": "code",
   "execution_count": null,
   "metadata": {},
   "outputs": [],
   "source": [
    "base = base[base['ano_inter'].isin(range(2011,2020))]"
   ]
  },
  {
   "cell_type": "code",
   "execution_count": null,
   "metadata": {},
   "outputs": [],
   "source": [
    "base = pd.merge(base,cid10,how='left',left_on='diag_princ_trim_upper',right_on='icd10_br')"
   ]
  },
  {
   "cell_type": "code",
   "execution_count": null,
   "metadata": {},
   "outputs": [],
   "source": [
    "base.head()"
   ]
  },
  {
   "cell_type": "code",
   "execution_count": null,
   "metadata": {},
   "outputs": [],
   "source": [
    "base = pd.merge(base,cnes,how='left',left_on='cnes',right_on='CO_CNES')"
   ]
  },
  {
   "cell_type": "code",
   "execution_count": null,
   "metadata": {},
   "outputs": [],
   "source": [
    "base.head()"
   ]
  },
  {
   "cell_type": "code",
   "execution_count": null,
   "metadata": {},
   "outputs": [],
   "source": [
    "#base['remover'] = base['diag_princ_trim_upper'].apply(lambda x: 1 if x.startswith('F') else (2 if x.startswith('O') else (3 if x.startswith('P') else (4 if x.startswith('Q') else 0 ) ) ) )\n",
    "# F # ICD-10 CHAPTER V - Mental and behavioral disorders\n",
    "# O # ICD-10 CHAPTER XV - Pregnancy, childbirth and the puerperium\n",
    "# P # ICD-10 CHAPTER XVI - Certain conditions originating in the perinatal period\n",
    "# Q # ICD-10 CHAPTER XVII - Congenital malformations, deformations and chromosomal abnormalities\n",
    "\n",
    "#base = base[base['class_abritrario'].isin(['Infeccions', 'Cronic-Deg', 'Injuries', 'Neoplasms'])]\n",
    "\n",
    "#base['remover'] = base['diag_princ_trim_upper'].apply(lambda x: 0 if x.startswith('J10') else (0 if x.startswith('J12') else (0 if x.startswith('J13') else (0 if x.startswith('J14') else (0 if x.startswith('J15') else (0 if x.startswith('J16') else (0 if x.startswith('J17') else (0 if x.startswith('J18') else 1 ) ) ) ) ) ) ) )"
   ]
  },
  {
   "cell_type": "code",
   "execution_count": null,
   "metadata": {},
   "outputs": [],
   "source": [
    "#base[base['remover'] == 0]['diag_princ_trim_upper'].head()"
   ]
  },
  {
   "cell_type": "code",
   "execution_count": null,
   "metadata": {},
   "outputs": [],
   "source": [
    "#base = base[base['remover'] == 0]"
   ]
  },
  {
   "cell_type": "code",
   "execution_count": null,
   "metadata": {},
   "outputs": [],
   "source": [
    "base['classificacao'] = base['idade_grupo_who'].apply(lambda x: 1 if x in ['60-64','65-69','70-74','75-79','80-84','85+'] else 0)\n",
    "\n",
    "#y = ['60-64']\n",
    "#y.isin(['60-64','65-69','70-74','75-79','80-84','85+'])"
   ]
  },
  {
   "cell_type": "code",
   "execution_count": null,
   "metadata": {},
   "outputs": [],
   "source": [
    "base.shape"
   ]
  },
  {
   "cell_type": "code",
   "execution_count": null,
   "metadata": {},
   "outputs": [],
   "source": [
    "base['CO_NATUREZA_JUR'].unique()"
   ]
  },
  {
   "cell_type": "code",
   "execution_count": null,
   "metadata": {},
   "outputs": [],
   "source": [
    "base['nat_jur'] = base['CO_NATUREZA_JUR'].apply(lambda x: 'Administração Pública' if x in range(1000,2000) else ('Entidades Empresariais' if x in range(2000,3000) else ('Entidades sem Fins Lucrativos' if x in range(3000,4000) else ('Pessoas Físicas' if x in range(4000,5000) else 'Organizações Internacionais e Outras Instituições Extraterritoriais'))))\n"
   ]
  },
  {
   "cell_type": "code",
   "execution_count": null,
   "metadata": {},
   "outputs": [],
   "source": [
    "base[['CO_NATUREZA_JUR','nat_jur']].head()"
   ]
  },
  {
   "cell_type": "code",
   "execution_count": null,
   "metadata": {},
   "outputs": [],
   "source": [
    "base['nat_jur'].unique()"
   ]
  },
  {
   "cell_type": "code",
   "execution_count": null,
   "metadata": {},
   "outputs": [],
   "source": [
    "# Qnt de idosos\n",
    "base[base['idade_real_anos'] >= 60]['id'].count()"
   ]
  },
  {
   "cell_type": "code",
   "execution_count": null,
   "metadata": {},
   "outputs": [],
   "source": [
    "# Qnt de não idosos\n",
    "base[base['idade_real_anos'] < 60]['id'].count()"
   ]
  },
  {
   "cell_type": "code",
   "execution_count": null,
   "metadata": {},
   "outputs": [],
   "source": [
    "base.columns"
   ]
  },
  {
   "cell_type": "code",
   "execution_count": null,
   "metadata": {},
   "outputs": [],
   "source": [
    "pd.set_option('display.max_columns', None)\n",
    "base.head()"
   ]
  },
  {
   "cell_type": "code",
   "execution_count": null,
   "metadata": {},
   "outputs": [],
   "source": [
    "#base.drop(['CO_CNES','CO_UNIDADE','CO_UF','CO_IBGE','NU_CNPJ_MANTENEDORA','NO_RAZAO_SOCIAL','NO_FANTASIA','CO_NATUREZA_ORGANIZACAO','DS_NATUREZA_ORGANIZACAO','DS_NATUREZA_ORGANIZACAO','CO_NIVEL_HIERARQUIA','',''])"
   ]
  },
  {
   "cell_type": "code",
   "execution_count": null,
   "metadata": {},
   "outputs": [],
   "source": [
    "base_eld = base[base['classificacao'] == 1]\n",
    "base_eld.head()"
   ]
  },
  {
   "cell_type": "code",
   "execution_count": null,
   "metadata": {},
   "outputs": [],
   "source": [
    "base_noneld = base[base['classificacao'] == 0]\n",
    "base_noneld.head()"
   ]
  },
  {
   "cell_type": "code",
   "execution_count": null,
   "metadata": {},
   "outputs": [],
   "source": [
    "# PROPORCAO DA POPULACAO POR FAIXA ETARIA (WHO)\n",
    "\n",
    "dfWHO = {'age_group': ['0-4', '5-9', '10-14', '15-19','20-24','25-29','30-34','35-39','40-44','45-49','50-54','55-59','60-64','65-69','70-74','75-79','80-84','85+'],\n",
    "        'world_avg': [8.86, 8.69, 8.60, 8.47, 8.22, 7.93, 7.61, 7.15, 6.59, 6.04, 5.37, 4.55, 3.72, 2.96, 2.21, 1.52, 0.91, 0.60]}\n",
    "dfWHO = pd.DataFrame(dfWHO)\n",
    "dfWHO['world_avg_dec'] = dfWHO['world_avg']/100\n",
    "dfWHO"
   ]
  },
  {
   "cell_type": "markdown",
   "metadata": {},
   "source": [
    "### Funções auxiliares"
   ]
  },
  {
   "cell_type": "code",
   "execution_count": null,
   "metadata": {},
   "outputs": [],
   "source": [
    "from sklearn import linear_model\n",
    "subprocess.check_call([sys.executable, '-m', 'pip', 'install','statsmodels'], stdout=subprocess.DEVNULL)\n",
    "import statsmodels.api as sm"
   ]
  },
  {
   "cell_type": "code",
   "execution_count": null,
   "metadata": {},
   "outputs": [],
   "source": [
    "from patsy import dmatrices\n",
    "import math"
   ]
  },
  {
   "cell_type": "code",
   "execution_count": null,
   "metadata": {},
   "outputs": [],
   "source": [
    "def aapc(df,expr,name):\n",
    "    y_train, X_train = dmatrices(expr, df, return_type='dataframe')\n",
    "    poisson_training_results = sm.GLM(y_train, X_train, family=sm.families.Poisson()).fit()\n",
    "    aapc_value = (math.exp(poisson_training_results.params[\"ano_inter\"]) - 1)*100\n",
    "    aapc_inf = (math.exp(poisson_training_results.conf_int().loc['ano_inter',0]) - 1)*100\n",
    "    aapc_sup = (math.exp(poisson_training_results.conf_int().loc['ano_inter',1]) - 1)*100\n",
    "\n",
    "    data = {'Analise': [name],\n",
    "        'AAPC': [aapc_value],\n",
    "        'IC_Inf': [aapc_inf],\n",
    "        'IC_Sup': [aapc_sup]}\n",
    "    df_results = pd.DataFrame(data)\n",
    "    return df_results"
   ]
  },
  {
   "cell_type": "code",
   "execution_count": null,
   "metadata": {},
   "outputs": [],
   "source": [
    "def age_adjust_ML(df,dfWHO,pop_ref):\n",
    "    \n",
    "    df.columns = ['ano_inter','idade_grupo_who','num']\n",
    "    df_merged = pd.merge(pop_ref, df,  how='left', left_on=['year','idade_grupo_who'], right_on=['ano_inter','idade_grupo_who']) # junta a quantidade por ano por faixa etária com a população de referencia\n",
    "    df_merged['taxa'] = df_merged['num']/df_merged['population'] # calcula a taxa\n",
    "    result = pd.merge(df_merged, dfWHO,  how='left', left_on=['idade_grupo_who'], right_on=['age_group']) # junta o dataframe com a proporção do WHO\n",
    "    result['obitos_esp'] = result['taxa']*result['world_avg_dec'] # calcula a proporção da quantidade esperados\n",
    "    df_result = result.groupby(['year']).agg({'num':'sum','obitos_esp':'sum','population':'sum','world_avg_dec':'sum'}).reset_index() # agrupa por ANO\n",
    "    # tx = obts esp / pop\n",
    "    #somar as faixas etarias do ano e dividir pela pop de ref total\n",
    "    df_result['taxa_ajustada'] = df_result['obitos_esp']/df_result['world_avg_dec']\n",
    "    df_result['taxa_ajustada_100mil'] = (df_result['taxa_ajustada']*100000).apply(np.ceil)\n",
    "    df_result['taxa_bruta_100mil'] = (df_result['num']/df_result['population'])*100000\n",
    "    df_result['taxa_ajd_qnt'] = df_result['obitos_esp']*df_result['population'] # calcula a quantidade para a populacao de referencia\n",
    "    df_result['taxa_ajd_qnt_Y'] = df_result['taxa_ajd_qnt'].apply(np.ceil) # arredonda para ter um numero inteiro (count data)\n",
    "    #df_result = result.groupby(['year']).agg({'taxa_ajd_qnt_Y':'sum','population':'sum'}).reset_index() # agrupa por ANO\n",
    "    df_result_final = df_result[['year','population','taxa_ajd_qnt_Y','taxa_ajustada','taxa_ajustada_100mil','taxa_bruta_100mil']]\n",
    "    return df_result_final"
   ]
  },
  {
   "cell_type": "code",
   "execution_count": null,
   "metadata": {},
   "outputs": [],
   "source": [
    "def age_adjust(df,dfWHO,pop_ref):\n",
    "    \n",
    "    df.columns = ['ano_inter','idade_grupo_who','num']\n",
    "    df_merged = pd.merge(pop_ref, df,  how='left', left_on=['year','idade_grupo_who'], right_on=['ano_inter','idade_grupo_who']) # junta a quantidade por ano por faixa etária com a população de referencia\n",
    "    df_merged['taxa'] = df_merged['num']/df_merged['population'] # calcula a taxa\n",
    "    result = pd.merge(df_merged, dfWHO,  how='left', left_on=['idade_grupo_who'], right_on=['age_group']) # junta o dataframe com a proporção do WHO\n",
    "    result['obitos_esp'] = result['taxa']*result['world_avg_dec'] # calcula a proporção da quantidade esperados\n",
    "    df_result = result.groupby(['year']).agg({'num':'sum','obitos_esp':'sum','population':'sum','world_avg_dec':'sum'}).reset_index() # agrupa por ANO\n",
    "    # tx = obts esp / pop\n",
    "    #somar as faixas etarias do ano e dividir pela pop de ref total\n",
    "    df_result['taxa_ajustada'] = df_result['obitos_esp']/df_result['world_avg_dec']\n",
    "    df_result['taxa_ajustada_100mil'] = (df_result['taxa_ajustada']*100000).apply(np.ceil)\n",
    "    df_result['taxa_bruta_100mil'] = (df_result['num']/df_result['population'])*100000\n",
    "    df_result['taxa_ajd_qnt'] = df_result['obitos_esp']*df_result['population'] # calcula a quantidade para a populacao de referencia\n",
    "    df_result['taxa_ajd_qnt_Y'] = df_result['taxa_ajd_qnt'].apply(np.ceil) # arredonda para ter um numero inteiro (count data)\n",
    "    #df_result = result.groupby(['year']).agg({'taxa_ajd_qnt_Y':'sum','population':'sum'}).reset_index() # agrupa por ANO\n",
    "    df_result_final = df_result[['year','population','taxa_ajd_qnt_Y','taxa_ajustada_100mil']]\n",
    "    return df_result_final"
   ]
  },
  {
   "cell_type": "code",
   "execution_count": null,
   "metadata": {},
   "outputs": [],
   "source": [
    "#def aapc_offset(df,expr,name):\n",
    "#    y_train, X_train = dmatrices(expr, df, return_type='dataframe')\n",
    "#    poisson_training_results = sm.GLM(y_train, X_train, offset=X_train['np.log(population)'], family=sm.families.Poisson()).fit()\n",
    "#    #print(poisson_training_results.summary())\n",
    "#    aapc_value = (math.exp(poisson_training_results.params[\"year\"]) - 1)*100\n",
    "#    aapc_inf = (math.exp(poisson_training_results.conf_int().loc['year',0]) - 1)*100\n",
    "#    aapc_sup = (math.exp(poisson_training_results.conf_int().loc['year',1]) - 1)*100\n",
    "#\n",
    "#    data = {'Analise': [name],\n",
    "#        'AAPC': [aapc_value],\n",
    "#        'IC_Inf': [aapc_inf],\n",
    "#        'IC_Sup': [aapc_sup]}\n",
    "#    df_results = pd.DataFrame(data)\n",
    "#    return df_results"
   ]
  },
  {
   "cell_type": "code",
   "execution_count": null,
   "metadata": {},
   "outputs": [],
   "source": [
    "def aapc_offset(df,expr,name):\n",
    "    y_train, X_train = dmatrices(expr, df, return_type='dataframe')\n",
    "    poisson_training_results = sm.GLM(y_train, X_train, offset=np.log(df['population']), family=sm.families.Poisson()).fit()\n",
    "    #print(poisson_training_results.summary())\n",
    "    aapc_value = (math.exp(poisson_training_results.params[\"year\"]) - 1)*100\n",
    "    aapc_inf = (math.exp(poisson_training_results.conf_int().loc['year',0]) - 1)*100\n",
    "    aapc_sup = (math.exp(poisson_training_results.conf_int().loc['year',1]) - 1)*100\n",
    "\n",
    "    data = {'Analise': [name],\n",
    "        'AAPC': [aapc_value],\n",
    "        'IC_Inf': [aapc_inf],\n",
    "        'IC_Sup': [aapc_sup]}\n",
    "    df_results = pd.DataFrame(data)\n",
    "    return df_results"
   ]
  },
  {
   "cell_type": "code",
   "execution_count": null,
   "metadata": {},
   "outputs": [],
   "source": [
    "def registros_ano(lst_dfs,lst_nomes,col_ano):\n",
    "\n",
    "    df_first = lst_dfs[0].copy()\n",
    "    nome = lst_nomes[0]\n",
    "\n",
    "    if col_ano == 'year':\n",
    "        df_first.drop('population',axis=1,inplace=True)\n",
    "        df_first.drop('taxa_ajd_qnt_Y',axis=1,inplace=True)\n",
    "\n",
    "\n",
    "    df_first = df_first.set_index(col_ano).T\n",
    "    df_first['Analise'] = nome\n",
    "    df_first['delta'] = ((df_first[2020] - df_first[2011])/df_first[2011])*100\n",
    "\n",
    "    for i in range(1,len(lst_dfs)):\n",
    "        df = lst_dfs[i].copy()\n",
    "        nome = lst_nomes[i]\n",
    "\n",
    "        if col_ano == 'year':\n",
    "            df.drop('population',axis=1,inplace=True)\n",
    "            df.drop('taxa_ajd_qnt_Y',axis=1,inplace=True)\n",
    "\n",
    "        df = df.set_index(col_ano).T\n",
    "        df['Analise'] = nome\n",
    "        df['delta'] = ((df[2020] - df[2011])/df[2011])*100\n",
    "    \n",
    "        df_first = pd.concat([df_first,df])\n",
    "    \n",
    "    #df_first.drop(col_ano,axis=1,inplace=True)\n",
    "    \n",
    "    return df_first"
   ]
  },
  {
   "cell_type": "markdown",
   "metadata": {},
   "source": [
    "## Analise Exploratória"
   ]
  },
  {
   "cell_type": "markdown",
   "metadata": {},
   "source": [
    "### População por sexo"
   ]
  },
  {
   "cell_type": "code",
   "execution_count": null,
   "metadata": {},
   "outputs": [],
   "source": [
    "# Característica da População\n",
    "\n",
    "pop_total = pop_ref_by_sex[pop_ref_by_sex['sex']=='all']['population'].reset_index()\n",
    "\n",
    "pop_homens = pop_ref_by_sex[pop_ref_by_sex['sex']=='male']['population'].reset_index()\n",
    "pop_mulheres = pop_ref_by_sex[pop_ref_by_sex['sex']=='female']['population'].reset_index()\n",
    "\n",
    "r = [0,1,2,3,4,5,6,7,8]\n",
    "g1_bars_bottom = round((pop_homens/pop_total)*100)['population']\n",
    "g1_bars_top = round((pop_mulheres/pop_total)*100)['population']\n",
    "\n",
    "fig, ax1 = plt.subplots(1,1,sharex=True,sharey=True,)\n",
    "p1 = ax1.bar(r, g1_bars_bottom, edgecolor='white', color = '#380282' , label='Homens')\n",
    "p2 = ax1.bar(r, g1_bars_top, bottom=g1_bars_bottom, edgecolor='white', color = '#DC143C', label='Mulheres')\n",
    "ax1.set_xticks(r, [\"2011\",\"2012\",\"2013\",\"2014\",\"2015\",\"2016\",\"2017\",\"2018\",\"2019\"])\n",
    "ax1.set_yticks([0,25,50,75,100],['0%','25%','50%','75%','100%'])\n",
    "ax1.set_ylabel('Proportion', fontweight='bold')\n",
    "ax1.set_title(\"Population\", fontweight='bold')\n",
    "ax1.bar_label(p1, label_type='center', fontweight='bold')\n",
    "ax1.bar_label(p2, label_type='center', fontweight='bold')\n",
    "\n",
    "fig.set_facecolor(\"#E5F2A5\")\n",
    "handles, labels = ax1.get_legend_handles_labels()\n",
    "fig.set_figheight(6)\n",
    "fig.set_figwidth(10)\n",
    "fig.legend(handles, labels, loc = (0.35, 0.01), ncol=2, labelspacing=0.)\n",
    "plt.savefig('../images/population_by_sex.png',dpi=1200)\n",
    "plt.show()"
   ]
  },
  {
   "cell_type": "markdown",
   "metadata": {},
   "source": [
    "### Admissões por sexo"
   ]
  },
  {
   "cell_type": "code",
   "execution_count": null,
   "metadata": {},
   "outputs": [],
   "source": [
    "# Característica da População\n",
    "\n",
    "# Sexo: 1-> masc, 3-> fem\n",
    "\n",
    "admissoes_total = base.groupby(['ano_inter']).agg({'id':'count'})\n",
    "\n",
    "admissoes_homens = base[base['sexo'] == 1].groupby(['ano_inter']).agg({'id':'count'}) \n",
    "admissoes_mulheres = base[base['sexo'] == 3].groupby(['ano_inter']).agg({'id':'count'})\n",
    "\n",
    "r = [0,1,2,3,4,5,6,7,8]\n",
    "g1_bars_bottom = round((admissoes_homens/admissoes_total)*100)['id']\n",
    "g1_bars_top = round((admissoes_mulheres/admissoes_total)*100)['id']\n",
    "\n",
    "fig, ax1 = plt.subplots(1,1,sharex=True,sharey=True,)\n",
    "p1 = ax1.bar(r, g1_bars_bottom, edgecolor='white', color = '#380282' , label='Homens')\n",
    "p2 = ax1.bar(r, g1_bars_top, bottom=g1_bars_bottom, edgecolor='white', color = '#DC143C', label='Mulheres')\n",
    "ax1.set_xticks(r, [\"2011\",\"2012\",\"2013\",\"2014\",\"2015\",\"2016\",\"2017\",\"2018\",\"2019\"])\n",
    "ax1.set_yticks([0,25,50,75,100],['0%','25%','50%','75%','100%'])\n",
    "ax1.set_ylabel('Proportion', fontweight='bold')\n",
    "ax1.set_title(\"Admissions\", fontweight='bold')\n",
    "ax1.bar_label(p1, label_type='center', fontweight='bold')\n",
    "ax1.bar_label(p2, label_type='center', fontweight='bold')\n",
    "\n",
    "fig.set_facecolor(\"#E5F2A5\")\n",
    "handles, labels = ax1.get_legend_handles_labels()\n",
    "fig.set_figheight(6)\n",
    "fig.set_figwidth(10)\n",
    "fig.legend(handles, labels, loc = (0.35, 0.01), ncol=2, labelspacing=0.)\n",
    "plt.savefig('../images/admissions_by_sex.png',dpi=1200)\n",
    "plt.show()"
   ]
  },
  {
   "cell_type": "markdown",
   "metadata": {},
   "source": [
    "### Mortes por sexo"
   ]
  },
  {
   "cell_type": "code",
   "execution_count": null,
   "metadata": {},
   "outputs": [],
   "source": [
    "mortes_total = base.groupby(['ano_inter']).agg({'morte':'sum'})\n",
    "\n",
    "mortes_homens =  base[base['sexo'] == 1].groupby(['ano_inter']).agg({'morte':'sum'})\n",
    "mortes_mulheres =  base[base['sexo'] == 3].groupby(['ano_inter']).agg({'morte':'sum'})\n",
    "\n",
    "r = [0,1,2,3,4,5,6,7,8]\n",
    "g3_bars_bottom = round((mortes_homens/mortes_total)*100)['morte']\n",
    "g3_bars_top = round((mortes_mulheres/mortes_total)*100)['morte']\n",
    "\n",
    "fig, ax1 = plt.subplots(1,1,sharex=True,sharey=True,)\n",
    "p1 = ax1.bar(r, g3_bars_bottom, edgecolor='white', color = '#380282' , label='Homens')\n",
    "p2 = ax1.bar(r, g3_bars_top, bottom=g3_bars_bottom, edgecolor='white', color = '#DC143C', label='Mulheres')\n",
    "ax1.set_xticks(r, [\"2011\",\"2012\",\"2013\",\"2014\",\"2015\",\"2016\",\"2017\",\"2018\",\"2019\"])\n",
    "ax1.set_yticks([0,25,50,75,100],['0%','25%','50%','75%','100%'])\n",
    "ax1.set_ylabel('Proportion', fontweight='bold')\n",
    "ax1.set_title(\"Deaths\", fontweight='bold')\n",
    "ax1.bar_label(p1, label_type='center', fontweight='bold')\n",
    "ax1.bar_label(p2, label_type='center', fontweight='bold')\n",
    "\n",
    "fig.set_facecolor(\"#E5F2A5\")\n",
    "handles, labels = ax1.get_legend_handles_labels()\n",
    "fig.set_figheight(6)\n",
    "fig.set_figwidth(10)\n",
    "fig.legend(handles, labels, loc = (0.35, 0.01), ncol=2, labelspacing=0.)\n",
    "plt.savefig('../images/deaths_by_sex.png',dpi=1200)\n",
    "plt.show()\n"
   ]
  },
  {
   "cell_type": "markdown",
   "metadata": {},
   "source": [
    "### Admissões por raça/cor"
   ]
  },
  {
   "cell_type": "code",
   "execution_count": null,
   "metadata": {},
   "outputs": [],
   "source": [
    "# Raça/Cor: 1 -> branca, 2 -> preta, 3-> parda, 4 -> amarela, 5 -> indigena, 99 -> sem info\n",
    "\n",
    "admissoes_brancos = base[base['raca_cor'] == 1].groupby(['ano_inter']).agg({'id':'count'})\n",
    "admissoes_pretos = base[base['raca_cor'] == 2].groupby(['ano_inter']).agg({'id':'count'})\n",
    "admissoes_pardos = base[base['raca_cor'] == 3].groupby(['ano_inter']).agg({'id':'count'})\n",
    "admissoes_amarelos = base[base['raca_cor'] == 4].groupby(['ano_inter']).agg({'id':'count'})\n",
    "admissoes_indigenas = base[base['raca_cor'] == 5].groupby(['ano_inter']).agg({'id':'count'})\n",
    "admissoes_seminfo = base[base['raca_cor'] == 99].groupby(['ano_inter']).agg({'id':'count'})\n",
    "\n",
    "\n",
    "r = [0,1,2,3,4,5,6,7,8]\n",
    "g2_bars_bottom = np.nan_to_num(round((admissoes_brancos/admissoes_total)*100)['id'])\n",
    "g2_bars_bottom2 = np.nan_to_num(round((admissoes_pardos/admissoes_total)*100)['id'])\n",
    "g2_bars_bottom3 = np.nan_to_num(round((admissoes_pretos/admissoes_total)*100)['id'])\n",
    "g2_bars_bottom4 = np.nan_to_num(round((admissoes_amarelos/admissoes_total)*100)['id'])\n",
    "g2_bars_bottom5 = np.nan_to_num(round((admissoes_indigenas/admissoes_total)*100)['id'])\n",
    "g2_bars_top = np.nan_to_num(round((admissoes_seminfo/admissoes_total)*100)['id'])\n",
    "\n",
    "\n",
    "fig, ax2 = plt.subplots(1,1,sharex=True,sharey=True,)\n",
    "p1 = ax2.bar(r, g2_bars_bottom, edgecolor='white', color = '#EB6C50' , label='Brancos')\n",
    "p2 = ax2.bar(r, g2_bars_bottom2, bottom=g2_bars_bottom, edgecolor='white', color = '#BB53F5', label='Pardos')\n",
    "p3 = ax2.bar(r, g2_bars_bottom3, bottom=g2_bars_bottom+g2_bars_bottom2, edgecolor='white', color = '#57A5DE', label='Pretos')\n",
    "p4 = ax2.bar(r, g2_bars_bottom4, bottom=g2_bars_bottom+g2_bars_bottom2+g2_bars_bottom3, color = '#53F56C', label='Amarelos')\n",
    "p5 = ax2.bar(r, g2_bars_bottom5, bottom=g2_bars_bottom+g2_bars_bottom2+g2_bars_bottom3+g2_bars_bottom4, edgecolor='white', color = '#EBD222', label='Indígenas')\n",
    "p6 = ax2.bar(r, g2_bars_top, bottom=g2_bars_bottom+g2_bars_bottom2+g2_bars_bottom3+g2_bars_bottom4+g2_bars_bottom5, edgecolor='white', color = '#DC143C', label='Sem Informação')\n",
    "ax2.set_xticks(r, [\"2011\",\"2012\",\"2013\",\"2014\",\"2015\",\"2016\",\"2017\",\"2018\",\"2019\"])\n",
    "ax2.set_yticks([0,25,50,75,100],['0%','25%','50%','75%','100%'])\n",
    "ax2.set_ylabel('Proportion', fontweight='bold')\n",
    "ax2.set_title(\"Admissions\", fontweight='bold')\n",
    "ax2.bar_label(p1, label_type='center', fontweight='bold')\n",
    "ax2.bar_label(p2, label_type='center', fontweight='bold')\n",
    "ax2.bar_label(p3, label_type='center', fontweight='bold')\n",
    "# ax2.bar_label(p4, label_type='center', fontweight='bold')\n",
    "# ax2.bar_label(p5, label_type='center', fontweight='bold')\n",
    "ax2.bar_label(p6, label_type='center', fontweight='bold')\n",
    "# ax2.set_facecolor(\"#E5F2A5\")\n",
    "fig.set_facecolor(\"#E5F2A5\")\n",
    "handles, labels = ax2.get_legend_handles_labels()\n",
    "fig.set_figheight(6)\n",
    "fig.set_figwidth(10)\n",
    "fig.legend(handles, labels, loc = (0.25, 0.01), ncol=3, labelspacing=0.)\n",
    "plt.savefig('../images/admissions_by_color.png',dpi=1200)\n",
    "plt.show()"
   ]
  },
  {
   "cell_type": "markdown",
   "metadata": {},
   "source": [
    "### Mortes por raça/cor"
   ]
  },
  {
   "cell_type": "code",
   "execution_count": null,
   "metadata": {},
   "outputs": [],
   "source": [
    "# Raça/Cor: 1 -> branca, 2 -> preta, 3-> parda, 4 -> amarela, 5 -> indigena, 99 -> sem info\n",
    "\n",
    "mortes_brancos = base[base['raca_cor'] == 1].groupby(['ano_inter']).agg({'morte':'sum'})\n",
    "mortes_pretos = base[base['raca_cor'] == 2].groupby(['ano_inter']).agg({'morte':'sum'})\n",
    "mortes_pardos = base[base['raca_cor'] == 3].groupby(['ano_inter']).agg({'morte':'sum'})\n",
    "mortes_amarelos = base[base['raca_cor'] == 4].groupby(['ano_inter']).agg({'morte':'sum'})\n",
    "mortes_indigenas = base[base['raca_cor'] == 5].groupby(['ano_inter']).agg({'morte':'sum'})\n",
    "mortes_seminfo = base[base['raca_cor'] == 99].groupby(['ano_inter']).agg({'morte':'sum'})\n",
    "\n",
    "\n",
    "r = [0,1,2,3,4,5,6,7,8]\n",
    "g4_bars_bottom = np.nan_to_num(round((mortes_brancos/mortes_total)*100)['morte'])\n",
    "g4_bars_bottom2 = np.nan_to_num(round((mortes_pardos/mortes_total)*100)['morte'])\n",
    "g4_bars_bottom3 = np.nan_to_num(round((mortes_pretos/mortes_total)*100)['morte'])\n",
    "g4_bars_bottom4 = np.nan_to_num(round((mortes_amarelos/mortes_total)*100)['morte'])\n",
    "g4_bars_bottom5 = np.nan_to_num(round((mortes_indigenas/mortes_total)*100)['morte'])\n",
    "g4_bars_top = np.nan_to_num(round((mortes_seminfo/mortes_total)*100)['morte'])\n",
    "\n",
    "\n",
    "fig, ax2 = plt.subplots(1,1,sharex=True,sharey=True,)\n",
    "p1 = ax2.bar(r, g4_bars_bottom, edgecolor='white', color = '#EB6C50' , label='Brancos')\n",
    "p2 = ax2.bar(r, g4_bars_bottom2, bottom=g4_bars_bottom, edgecolor='white', color = '#BB53F5', label='Pardos')\n",
    "p3 = ax2.bar(r, g4_bars_bottom3, bottom=g4_bars_bottom+g4_bars_bottom2, edgecolor='white', color = '#57A5DE', label='Pretos')\n",
    "p4 = ax2.bar(r, g4_bars_bottom4, bottom=g4_bars_bottom+g4_bars_bottom2+g4_bars_bottom3, color = '#53F56C', label='Amarelos')\n",
    "p5 = ax2.bar(r, g4_bars_bottom5, bottom=g4_bars_bottom+g4_bars_bottom2+g4_bars_bottom3+g4_bars_bottom4, edgecolor='white', color = '#EBD222', label='Indígenas')\n",
    "p6 = ax2.bar(r, g4_bars_top, bottom=g4_bars_bottom+g4_bars_bottom2+g4_bars_bottom3+g4_bars_bottom4+g4_bars_bottom5, edgecolor='white', color = '#DC143C', label='Sem Informação')\n",
    "ax2.set_xticks(r, [\"2011\",\"2012\",\"2013\",\"2014\",\"2015\",\"2016\",\"2017\",\"2018\",\"2019\"])\n",
    "ax2.set_yticks([0,25,50,75,100],['0%','25%','50%','75%','100%'])\n",
    "ax2.set_ylabel('Proportion', fontweight='bold')\n",
    "ax2.set_title(\"Deaths\", fontweight='bold')\n",
    "ax2.bar_label(p1, label_type='center', fontweight='bold')\n",
    "ax2.bar_label(p2, label_type='center', fontweight='bold')\n",
    "ax2.bar_label(p3, label_type='center', fontweight='bold')\n",
    "# ax2.bar_label(p4, label_type='center', fontweight='bold')\n",
    "# ax2.bar_label(p5, label_type='center', fontweight='bold')\n",
    "ax2.bar_label(p6, label_type='center', fontweight='bold')\n",
    "# ax2.set_facecolor(\"#E5F2A5\")\n",
    "fig.set_facecolor(\"#E5F2A5\")\n",
    "handles, labels = ax2.get_legend_handles_labels()\n",
    "fig.set_figheight(6)\n",
    "fig.set_figwidth(10)\n",
    "fig.legend(handles, labels, loc = (0.25, 0.01), ncol=3, labelspacing=0.)\n",
    "plt.savefig('../images/deaths_by_color.png',dpi=1200)\n",
    "plt.show()"
   ]
  },
  {
   "cell_type": "markdown",
   "metadata": {},
   "source": [
    "### Taxa de mortalidade e letalidade"
   ]
  },
  {
   "cell_type": "code",
   "execution_count": null,
   "metadata": {},
   "outputs": [],
   "source": [
    "dfmortes = base.groupby(['ano_inter','idade_grupo_who']).agg({'morte':'sum'}).reset_index()\n",
    "dfmortalidade = age_adjust_ML(dfmortes,dfWHO,pop_ref)\n",
    "dfmortalidade"
   ]
  },
  {
   "cell_type": "code",
   "execution_count": null,
   "metadata": {},
   "outputs": [],
   "source": [
    "dflet = base.groupby(['ano_inter','idade_grupo_who']).agg({'id':'count','morte':'sum'}).reset_index()\n",
    "dflet.columns = ['ano_inter','idade_grupo_who','admissoes','num']\n",
    "#df_merged = pd.merge(pop_ref, df,  how='left', left_on=['year','idade_grupo_who'], right_on=['ano_inter','idade_grupo_who']) # junta a quantidade por ano por faixa etária com a população de referencia\n",
    "dflet['taxa'] = dflet['num']/dflet['admissoes'] # calcula a taxa\n",
    "dfletalidade = pd.merge(dflet, dfWHO,  how='left', left_on=['idade_grupo_who'], right_on=['age_group']) # junta o dataframe com a proporção do WHO\n",
    "dfletalidade['obitos_esp'] = dfletalidade['taxa']*dfletalidade['world_avg_dec'] # calcula a proporção da quantidade esperados\n",
    "dfletalidade = dfletalidade.groupby(['ano_inter']).agg({'num':'sum','obitos_esp':'sum','admissoes':'sum','world_avg_dec':'sum'}).reset_index() # agrupa por ANO\n",
    "# tx = obts esp / pop\n",
    "#somar as faixas etarias do ano e dividir pela pop de ref total\n",
    "dfletalidade['taxa_ajustada'] = dfletalidade['obitos_esp']/dfletalidade['world_avg_dec']\n",
    "dfletalidade['taxa_ajustada_100mil'] = (dfletalidade['taxa_ajustada']*100000).apply(np.ceil)\n",
    "dfletalidade['taxa_bruta_100mil'] = (dfletalidade['num']/dfletalidade['admissoes'])*100000\n",
    "dfletalidade"
   ]
  },
  {
   "cell_type": "code",
   "execution_count": null,
   "metadata": {},
   "outputs": [],
   "source": [
    "tx_mort = round(dfmortalidade['taxa_ajustada']*100,4)[0:9]\n",
    "tx_let = round((dfletalidade['taxa_ajustada'])*100,4)\n",
    "\n",
    "r = [0,1,2,3,4,5,6,7,8]\n",
    "\n",
    "fig, (ax1,ax2) = plt.subplots(1,2,sharex=True,)\n",
    "p1 = ax1.plot(r, tx_mort, marker='o', markerfacecolor='#380282', markersize=4, color = '#380282' , label='Mortality rate')\n",
    "p2 = ax2.plot(r, tx_let, marker='o', markerfacecolor='#380282', markersize=4, color = '#DC143C' , label='Lethality rate')\n",
    "ax1.set_xticks(r, [\"2011\",\"2012\",\"2013\",\"2014\",\"2015\",\"2016\",\"2017\",\"2018\",\"2019\"])\n",
    "ax1.set_yticks([0,0.01,0.02,0.03,0.04,0.05],['0%','0.01%','0.02%','0.03%','0.04%','0.05%'])\n",
    "ax1.set_ylabel('Proportion', fontweight='bold')\n",
    "ax1.set_title(\"Mortality Rate\", fontweight='bold')\n",
    "a = [1,-1,1,-1,1,-1,1,-1,1,-1]\n",
    "ax2.set_yticks([0,10,20,30,40,50],['0%','10%','20%','30%','40%','50%'])\n",
    "ax2.set_ylabel('Proportion', fontweight='bold')\n",
    "ax2.set_title(\"Lethality Rate\", fontweight='bold')\n",
    "\n",
    "for i in range(len(tx_mort)):\n",
    "    ax1.text(r[i], tx_mort[i]+(a[i]*0.0017), \"%.4f\" %tx_mort[i], ha=\"center\", fontweight='bold')\n",
    "    ax2.text(r[i], tx_let[i]+1, \"%d\" %tx_let[i], ha=\"center\", fontweight='bold')\n",
    "    \n",
    "fig.set_facecolor(\"#E5F2A5\")\n",
    "\n",
    "fig.set_figheight(6)\n",
    "fig.set_figwidth(12)\n",
    "plt.savefig('../images/mortality_ratio.png',dpi=1200)\n",
    "plt.show()\n",
    "\n"
   ]
  },
  {
   "cell_type": "markdown",
   "metadata": {},
   "source": [
    "### Valores faltantes na Base"
   ]
  },
  {
   "cell_type": "code",
   "execution_count": null,
   "metadata": {},
   "outputs": [],
   "source": [
    "na=(base.shape[0]-base[base.columns].count()).to_frame().reset_index().rename(columns={'index':'COLUNA',0:'NAs'})\n",
    "na"
   ]
  },
  {
   "cell_type": "code",
   "execution_count": null,
   "metadata": {},
   "outputs": [],
   "source": [
    "fig, ax = plt.subplots(figsize=(10,15))\n",
    "sns.barplot(y='COLUNA',x='NAs',data=na,ax=ax).set_title('VALORES NULOS', fontsize=15)\n",
    "#fig.savefig(\"imagens2\\\\nulos.png\", dpi=None, facecolor='w', edgecolor='w',\n",
    "#        orientation='portrait', papertype=None, format=None,\n",
    "#        transparent=False, bbox_inches=None, pad_inches=0.1,\n",
    "#        frameon=None, metadata=None)"
   ]
  },
  {
   "cell_type": "code",
   "execution_count": null,
   "metadata": {},
   "outputs": [],
   "source": [
    "base.drop(['NU_CNPJ_MANTENEDORA','CO_NATUREZA_ORGANIZACAO','DS_NATUREZA_ORGANIZACAO','DS_NATUREZA_ORGANIZACAO','CO_NIVEL_HIERARQUIA','DS_NIVEL_HIERARQUIA','CO_ESFERA_ADMINISTRATIVA','DS_ESFERA_ADMINISTRATIVA','NU_TELEFONE','NU_LATITUDE','NU_LONGITUDE','NU_CNPJ','NO_EMAIL','CO_MOTIVO_DESAB','cnes_y','qnt_prof'],axis=1,inplace=True)"
   ]
  },
  {
   "cell_type": "code",
   "execution_count": null,
   "metadata": {},
   "outputs": [],
   "source": [
    "base.columns"
   ]
  },
  {
   "cell_type": "markdown",
   "metadata": {},
   "source": [
    "### Admissoes por tipo de hospital"
   ]
  },
  {
   "cell_type": "code",
   "execution_count": null,
   "metadata": {},
   "outputs": [],
   "source": [
    "# ADMISSOES POR TIPO DE HOSPITAL\n",
    "\n",
    "admissoes_total = base.groupby(['ano_inter']).agg({'id':'count'})\n",
    "\n",
    "admissoes_hosppublico = base[base['nat_jur'] == 'Administração Pública'].groupby(['ano_inter']).agg({'id':'count'}) \n",
    "admissoes_hosppart = base[base['nat_jur'] == 'Entidades Empresariais'].groupby(['ano_inter']).agg({'id':'count'})\n",
    "admissoes_hospong = base[base['nat_jur'] == 'Entidades sem Fins Lucrativos'].groupby(['ano_inter']).agg({'id':'count'})\n",
    "\n",
    "\n",
    "r = [0,1,2,3,4,5,6,7,8]\n",
    "g1_bars_bottom = round((admissoes_hosppublico/admissoes_total)*100)['id']\n",
    "g1_bars_mid = round((admissoes_hospong/admissoes_total)*100)['id']\n",
    "g1_bars_top = round((admissoes_hosppart/admissoes_total)*100)['id']\n",
    "\n",
    "fig, ax1 = plt.subplots(1,1,sharex=True,sharey=True,)\n",
    "p1 = ax1.bar(r, g1_bars_bottom, edgecolor='white', color = 'darkgreen' , label='Hospital Público')\n",
    "p2 = ax1.bar(r, g1_bars_mid, bottom=g1_bars_bottom, edgecolor='white', color = 'orange' , label='Hospital sem Fins Lucrativos')\n",
    "p3 = ax1.bar(r, g1_bars_top, bottom=g1_bars_bottom+g1_bars_mid, edgecolor='white', color = 'navy', label='Hospital Privado')\n",
    "ax1.set_xticks(r, [\"2011\",\"2012\",\"2013\",\"2014\",\"2015\",\"2016\",\"2017\",\"2018\",\"2019\"])\n",
    "ax1.set_yticks([0,25,50,75,100],['0%','25%','50%','75%','100%'])\n",
    "ax1.set_ylabel('Proportion', fontweight='bold')\n",
    "ax1.set_title(\"Admissions\", fontweight='bold')\n",
    "ax1.bar_label(p1, label_type='center', fontweight='bold')\n",
    "ax1.bar_label(p2, label_type='center', fontweight='bold')\n",
    "ax1.bar_label(p3, label_type='center', fontweight='bold',color='white')\n",
    "\n",
    "\n",
    "fig.set_facecolor(\"#E5F2A5\")\n",
    "handles, labels = ax1.get_legend_handles_labels()\n",
    "fig.set_figheight(6)\n",
    "fig.set_figwidth(10)\n",
    "fig.legend(handles, labels, loc = (0.2, 0.01), ncol=3, labelspacing=0.)\n",
    "plt.savefig('../images/admissions_by_hospital.png',dpi=1200)\n",
    "plt.show()"
   ]
  },
  {
   "cell_type": "markdown",
   "metadata": {},
   "source": [
    "### Mortes por tipo de hospital"
   ]
  },
  {
   "cell_type": "code",
   "execution_count": null,
   "metadata": {},
   "outputs": [],
   "source": [
    "mortes_total = base.groupby(['ano_inter']).agg({'morte':'sum'})\n",
    "\n",
    "mortes_hosppublico =  base[base['nat_jur'] == 'Administração Pública'].groupby(['ano_inter']).agg({'morte':'sum'})\n",
    "mortes_hosppart =  base[base['nat_jur'] == 'Entidades Empresariais'].groupby(['ano_inter']).agg({'morte':'sum'})\n",
    "mortes_hospong =  base[base['nat_jur'] == 'Entidades sem Fins Lucrativos'].groupby(['ano_inter']).agg({'morte':'sum'})\n",
    "\n",
    "r = [0,1,2,3,4,5,6,7,8]\n",
    "g3_bars_bottom = round((mortes_hosppublico/mortes_total)*100)['morte']\n",
    "g3_bars_mid = round((mortes_hospong/mortes_total)*100)['morte']\n",
    "g3_bars_top = round((mortes_hosppart/mortes_total)*100)['morte']\n",
    "\n",
    "fig, ax1 = plt.subplots(1,1,sharex=True,sharey=True,)\n",
    "p1 = ax1.bar(r, g3_bars_bottom, edgecolor='white', color = 'darkgreen' , label='Hospital Público')\n",
    "p2 = ax1.bar(r, g3_bars_mid, bottom=g3_bars_bottom, edgecolor='white', color = 'orange', label='Hospital Sem Fins Lucrativos')\n",
    "p3 = ax1.bar(r, g3_bars_top, bottom=g3_bars_bottom+g3_bars_mid, edgecolor='white', color = 'navy', label='Hospital Privado')\n",
    "ax1.set_xticks(r, [\"2011\",\"2012\",\"2013\",\"2014\",\"2015\",\"2016\",\"2017\",\"2018\",\"2019\"])\n",
    "ax1.set_yticks([0,25,50,75,100],['0%','25%','50%','75%','100%'])\n",
    "ax1.set_ylabel('Proportion', fontweight='bold')\n",
    "ax1.set_title(\"Deaths\", fontweight='bold')\n",
    "ax1.bar_label(p1, label_type='center', fontweight='bold')\n",
    "ax1.bar_label(p2, label_type='center', fontweight='bold')\n",
    "ax1.bar_label(p3, label_type='center', fontweight='bold',color='white')\n",
    "\n",
    "fig.set_facecolor(\"#E5F2A5\")\n",
    "handles, labels = ax1.get_legend_handles_labels()\n",
    "fig.set_figheight(6)\n",
    "fig.set_figwidth(10)\n",
    "fig.legend(handles, labels, loc = (0.2, 0.01), ncol=3, labelspacing=0.)\n",
    "plt.savefig('../images/deaths_by_hospital.png',dpi=1200)\n",
    "plt.show()"
   ]
  },
  {
   "cell_type": "markdown",
   "metadata": {},
   "source": [
    "### Admissoes por Regiao"
   ]
  },
  {
   "cell_type": "code",
   "execution_count": null,
   "metadata": {},
   "outputs": [],
   "source": [
    "base['regiao'].unique()"
   ]
  },
  {
   "cell_type": "code",
   "execution_count": null,
   "metadata": {},
   "outputs": [],
   "source": [
    "admissoes_S = base[base['regiao'] == 'S'].groupby(['ano_inter']).agg({'id':'count'})\n",
    "admissoes_N = base[base['regiao'] == 'N'].groupby(['ano_inter']).agg({'id':'count'})\n",
    "admissoes_NE = base[base['regiao'] == 'NE'].groupby(['ano_inter']).agg({'id':'count'})\n",
    "admissoes_SE = base[base['regiao'] == 'SE'].groupby(['ano_inter']).agg({'id':'count'})\n",
    "admissoes_CO = base[base['regiao'] == 'CO'].groupby(['ano_inter']).agg({'id':'count'})\n",
    "\n",
    "\n",
    "r = [0,1,2,3,4,5,6,7,8]\n",
    "g2_bars_bottom = np.nan_to_num(round((admissoes_S/admissoes_total)*100)['id'])\n",
    "g2_bars_bottom2 = np.nan_to_num(round((admissoes_N/admissoes_total)*100)['id'])\n",
    "g2_bars_bottom3 = np.nan_to_num(round((admissoes_NE/admissoes_total)*100)['id'])\n",
    "g2_bars_bottom4 = np.nan_to_num(round((admissoes_SE/admissoes_total)*100)['id'])\n",
    "g2_bars_bottom5 = np.nan_to_num(round((admissoes_CO/admissoes_total)*100)['id'])\n",
    "\n",
    "\n",
    "fig, ax2 = plt.subplots(1,1,sharex=True,sharey=True,)\n",
    "p1 = ax2.bar(r, g2_bars_bottom, edgecolor='white', color = '#442288' , label='Sul')\n",
    "p2 = ax2.bar(r, g2_bars_bottom2, bottom=g2_bars_bottom, edgecolor='white', color = '#6CA2EA', label='Norte')\n",
    "p3 = ax2.bar(r, g2_bars_bottom3, bottom=g2_bars_bottom+g2_bars_bottom2, edgecolor='white', color = '#FED23F', label='Nordeste')\n",
    "p4 = ax2.bar(r, g2_bars_bottom4, bottom=g2_bars_bottom+g2_bars_bottom2+g2_bars_bottom3, color = '#B5D33D', label='Sudeste')\n",
    "p5 = ax2.bar(r, g2_bars_bottom5, bottom=g2_bars_bottom+g2_bars_bottom2+g2_bars_bottom3+g2_bars_bottom4, edgecolor='white', color = '#EB7D5B', label='Centro Oeste')\n",
    "ax2.set_xticks(r, [\"2011\",\"2012\",\"2013\",\"2014\",\"2015\",\"2016\",\"2017\",\"2018\",\"2019\"])\n",
    "ax2.set_yticks([0,25,50,75,100],['0%','25%','50%','75%','100%'])\n",
    "ax2.set_ylabel('Proportion', fontweight='bold')\n",
    "ax2.set_title(\"Admissions\", fontweight='bold')\n",
    "ax2.bar_label(p1, label_type='center', fontweight='bold')\n",
    "ax2.bar_label(p2, label_type='center', fontweight='bold')\n",
    "ax2.bar_label(p3, label_type='center', fontweight='bold')\n",
    "ax2.bar_label(p4, label_type='center', fontweight='bold')\n",
    "ax2.bar_label(p5, label_type='center', fontweight='bold')\n",
    "# ax2.set_facecolor(\"#E5F2A5\")\n",
    "fig.set_facecolor(\"#E5F2A5\")\n",
    "handles, labels = ax2.get_legend_handles_labels()\n",
    "fig.set_figheight(6)\n",
    "fig.set_figwidth(10)\n",
    "fig.legend(handles, labels, loc = (0.25, 0.01), ncol=3, labelspacing=0.)\n",
    "plt.savefig('../images/admissions_by_REGION.png',dpi=1200)\n",
    "plt.show()"
   ]
  },
  {
   "cell_type": "markdown",
   "metadata": {},
   "source": [
    "### Mortes por Regiao"
   ]
  },
  {
   "cell_type": "code",
   "execution_count": null,
   "metadata": {},
   "outputs": [],
   "source": [
    "# Raça/Cor: 1 -> branca, 2 -> preta, 3-> parda, 4 -> amarela, 5 -> indigena, 99 -> sem info\n",
    "\n",
    "mortes_S = base[base['regiao'] == 'S'].groupby(['ano_inter']).agg({'morte':'sum'})\n",
    "mortes_N = base[base['regiao'] == 'N'].groupby(['ano_inter']).agg({'morte':'sum'})\n",
    "mortes_NE = base[base['regiao'] == 'NE'].groupby(['ano_inter']).agg({'morte':'sum'})\n",
    "mortes_SE = base[base['regiao'] == 'SE'].groupby(['ano_inter']).agg({'morte':'sum'})\n",
    "mortes_CO = base[base['regiao'] == 'CO'].groupby(['ano_inter']).agg({'morte':'sum'})\n",
    "\n",
    "\n",
    "r = [0,1,2,3,4,5,6,7,8]\n",
    "g4_bars_bottom = np.nan_to_num(round((mortes_S/mortes_total)*100)['morte'])\n",
    "g4_bars_bottom2 = np.nan_to_num(round((mortes_N/mortes_total)*100)['morte'])\n",
    "g4_bars_bottom3 = np.nan_to_num(round((mortes_NE/mortes_total)*100)['morte'])\n",
    "g4_bars_bottom4 = np.nan_to_num(round((mortes_SE/mortes_total)*100)['morte'])\n",
    "g4_bars_bottom5 = np.nan_to_num(round((mortes_CO/mortes_total)*100)['morte'])\n",
    "\n",
    "\n",
    "fig, ax2 = plt.subplots(1,1,sharex=True,sharey=True,)\n",
    "p1 = ax2.bar(r, g4_bars_bottom, edgecolor='white', color = '#442288' , label='Sul')\n",
    "p2 = ax2.bar(r, g4_bars_bottom2, bottom=g4_bars_bottom, edgecolor='white', color = '#6CA2EA', label='Norte')\n",
    "p3 = ax2.bar(r, g4_bars_bottom3, bottom=g4_bars_bottom+g4_bars_bottom2, edgecolor='white', color = '#FED23F', label='Nordeste')\n",
    "p4 = ax2.bar(r, g4_bars_bottom4, bottom=g4_bars_bottom+g4_bars_bottom2+g4_bars_bottom3, color = '#B5D33D', label='Sudeste')\n",
    "p5 = ax2.bar(r, g4_bars_bottom5, bottom=g4_bars_bottom+g4_bars_bottom2+g4_bars_bottom3+g4_bars_bottom4, edgecolor='white', color = '#EB7D5B', label='Centro Oeste')\n",
    "ax2.set_xticks(r, [\"2011\",\"2012\",\"2013\",\"2014\",\"2015\",\"2016\",\"2017\",\"2018\",\"2019\"])\n",
    "ax2.set_yticks([0,25,50,75,100],['0%','25%','50%','75%','100%'])\n",
    "ax2.set_ylabel('Proportion', fontweight='bold')\n",
    "ax2.set_title(\"Deaths\", fontweight='bold')\n",
    "ax2.bar_label(p1, label_type='center', fontweight='bold')\n",
    "ax2.bar_label(p2, label_type='center', fontweight='bold')\n",
    "ax2.bar_label(p3, label_type='center', fontweight='bold')\n",
    "ax2.bar_label(p4, label_type='center', fontweight='bold')\n",
    "ax2.bar_label(p5, label_type='center', fontweight='bold')\n",
    "# ax2.set_facecolor(\"#E5F2A5\")\n",
    "fig.set_facecolor(\"#E5F2A5\")\n",
    "handles, labels = ax2.get_legend_handles_labels()\n",
    "fig.set_figheight(6)\n",
    "fig.set_figwidth(10)\n",
    "fig.legend(handles, labels, loc = (0.25, 0.01), ncol=3, labelspacing=0.)\n",
    "plt.savefig('../images/deaths_by_region.png',dpi=1200)\n",
    "plt.show()"
   ]
  },
  {
   "cell_type": "markdown",
   "metadata": {},
   "source": [
    "### LOS de pacientes em Uti por sexo"
   ]
  },
  {
   "cell_type": "code",
   "execution_count": null,
   "metadata": {},
   "outputs": [],
   "source": [
    "losuti_total = base[base['uti']==1].groupby(['ano_inter','sexo']).agg({'los_uti':'mean'}).reset_index()\n",
    "losuti_total['Sexo'] = losuti_total['sexo'].apply(lambda x: 'Homem' if x == 1 else \"Mulher\")\n",
    "\n",
    "\n",
    "losuti_homens =  base[(base['sexo'] == 1)&(base['uti']==1)].groupby(['ano_inter']).agg({'los_uti':'mean'}).reset_index()\n",
    "losuti_mulheres =  base[(base['sexo'] == 3)&(base['uti']==1)].groupby(['ano_inter']).agg({'los_uti':'mean'}).reset_index()\n",
    "\n",
    "r = [0,2,4,6,8,10,12,14,16]\n",
    "r2 = [x+0.6 for x in r]\n",
    "#g3_bars_bottom = round((losuti_homens/losuti_total)*100)['los_uti']\n",
    "#g3_bars_top = round((losuti_mulheres/losuti_total)*100)['los_uti']\n",
    "\n",
    "fig, ax1 = plt.subplots(1,1,sharex=True,sharey=True,)\n",
    "#p1 = ax1.bar(r, g3_bars_bottom, edgecolor='white', color = '#380282' , label='Homens')\n",
    "#p2 = ax1.bar(r, g3_bars_top, bottom=g3_bars_bottom, edgecolor='white', color = '#DC143C', label='Mulheres')\n",
    "\n",
    "p1 = ax1.bar(r, round(losuti_homens['los_uti'],1), color = '#380282', width = 0.4, label='Homens')\n",
    "p2 = ax1.bar(r2, round(losuti_mulheres['los_uti'],1), color = '#DC143C',width = 0.4, label='Mulheres')\n",
    "#ax.bar(X + 0.50, data[2], color = 'r', width = 0.25)\n",
    "\n",
    "#p1 = sns.barplot(data=losuti_total, x='ano_inter',y='los_uti',hue='Sexo')\n",
    "\n",
    "#p2 = sns.barplot(data=losuti_mulheres, x='ano_inter',y='los_uti',color = '#DC143C' , label='Homens')\n",
    "\n",
    "ax1.set_xticks([x+0.3 for x in r], [\"2011\",\"2012\",\"2013\",\"2014\",\"2015\",\"2016\",\"2017\",\"2018\",\"2019\"])\n",
    "#ax1.set_yticks([0,25,50,75,100],['0%','25%','50%','75%','100%'])\n",
    "ax1.set_ylabel('Days', fontweight='bold')\n",
    "ax1.set_xlabel('Years', fontweight='bold')\n",
    "\n",
    "ax1.set_title(\"Average LOS Uti\", fontweight='bold')\n",
    "ax1.bar_label(p1, label_type='edge', fontweight='bold')\n",
    "ax1.bar_label(p2, label_type='edge', fontweight='bold')\n",
    "\n",
    "fig.set_facecolor(\"#E5F2A5\")\n",
    "handles, labels = ax1.get_legend_handles_labels()\n",
    "fig.set_figheight(6)\n",
    "fig.set_figwidth(10)\n",
    "fig.legend(handles, labels, loc = (0.35, 0.01), ncol=2, labelspacing=0.)\n",
    "plt.savefig('../images/los_by_sex.png',dpi=1200)\n",
    "plt.show()"
   ]
  },
  {
   "cell_type": "markdown",
   "metadata": {},
   "source": [
    "### LOS UTI por tipo de hospital"
   ]
  },
  {
   "cell_type": "code",
   "execution_count": null,
   "metadata": {},
   "outputs": [],
   "source": [
    "#losuti_total = base[base['uti']==1].groupby(['ano_inter','sexo']).agg({'los_uti':'mean'}).reset_index()\n",
    "#losuti_total['Sexo'] = losuti_total['sexo'].apply(lambda x: 'Homem' if x == 1 else \"Mulher\")\n",
    "\n",
    "#mortes_hosppublico =  base[base['nat_jur'] == 'Administração Pública'].groupby(['ano_inter']).agg({'morte':'sum'})\n",
    "#mortes_hosppart =  base[base['nat_jur'] == ].groupby(['ano_inter']).agg({'morte':'sum'})\n",
    "\n",
    "losuti_publico =  base[(base['nat_jur'] == 'Administração Pública')&(base['uti']==1)].groupby(['ano_inter']).agg({'los_uti':'mean'}).reset_index()\n",
    "losuti_priv =  base[(base['nat_jur'] == 'Entidades Empresariais')&(base['uti']==1)].groupby(['ano_inter']).agg({'los_uti':'mean'}).reset_index()\n",
    "losuti_ong =  base[(base['nat_jur'] == 'Entidades sem Fins Lucrativos')&(base['uti']==1)].groupby(['ano_inter']).agg({'los_uti':'mean'}).reset_index()\n",
    "\n",
    "r = [0,2,4,6,8,10,12,14,16]\n",
    "r2 = [x+0.5 for x in r]\n",
    "r3 = [x+1 for x in r]\n",
    "#g3_bars_bottom = round((losuti_homens/losuti_total)*100)['los_uti']\n",
    "#g3_bars_top = round((losuti_mulheres/losuti_total)*100)['los_uti']\n",
    "\n",
    "fig, ax1 = plt.subplots(1,1,sharex=True,sharey=True,)\n",
    "#p1 = ax1.bar(r, g3_bars_bottom, edgecolor='white', color = '#380282' , label='Homens')\n",
    "#p2 = ax1.bar(r, g3_bars_top, bottom=g3_bars_bottom, edgecolor='white', color = '#DC143C', label='Mulheres')\n",
    "\n",
    "p1 = ax1.bar(r, round(losuti_publico['los_uti'],1), color = 'darkgreen', width = 0.4, label='Hospital Público')\n",
    "p2 = ax1.bar(r2, round(losuti_priv['los_uti'],1), color = 'navy',width = 0.4, label='Hospital Privado')\n",
    "p3 = ax1.bar(r3, round(losuti_ong['los_uti'],1), color = 'orange',width = 0.4, label='Hospital sem Fins Lucrativos')\n",
    "#ax.bar(X + 0.50, data[2], color = 'r', width = 0.25)\n",
    "\n",
    "#p1 = sns.barplot(data=losuti_total, x='ano_inter',y='los_uti',hue='Sexo')\n",
    "\n",
    "#p2 = sns.barplot(data=losuti_mulheres, x='ano_inter',y='los_uti',color = '#DC143C' , label='Homens')\n",
    "\n",
    "ax1.set_xticks(r2, [\"2011\",\"2012\",\"2013\",\"2014\",\"2015\",\"2016\",\"2017\",\"2018\",\"2019\"])\n",
    "#ax1.set_yticks([0,25,50,75,100],['0%','25%','50%','75%','100%'])\n",
    "ax1.set_ylabel('Days', fontweight='bold')\n",
    "ax1.set_xlabel('Years', fontweight='bold')\n",
    "\n",
    "ax1.set_title(\"Average LOS Uti\", fontweight='bold')\n",
    "ax1.bar_label(p1, label_type='edge', fontweight='bold')\n",
    "ax1.bar_label(p2, label_type='edge', fontweight='bold')\n",
    "ax1.bar_label(p3, label_type='edge', fontweight='bold')\n",
    "\n",
    "fig.set_facecolor(\"#E5F2A5\")\n",
    "handles, labels = ax1.get_legend_handles_labels()\n",
    "fig.set_figheight(6)\n",
    "fig.set_figwidth(10)\n",
    "fig.legend(handles, labels, loc = (0.2, 0.01), ncol=3, labelspacing=0.)\n",
    "plt.savefig('../images/los_by_hospital.png',dpi=1200)\n",
    "plt.show()"
   ]
  },
  {
   "cell_type": "markdown",
   "metadata": {},
   "source": [
    "### LOS por Região"
   ]
  },
  {
   "cell_type": "code",
   "execution_count": null,
   "metadata": {},
   "outputs": [],
   "source": [
    "#losuti_total = base[base['uti']==1].groupby(['ano_inter','sexo']).agg({'los_uti':'mean'}).reset_index()\n",
    "#losuti_total['Sexo'] = losuti_total['sexo'].apply(lambda x: 'Homem' if x == 1 else \"Mulher\")\n",
    "\n",
    "#mortes_hosppublico =  base[base['nat_jur'] == 'Administração Pública'].groupby(['ano_inter']).agg({'morte':'sum'})\n",
    "#mortes_hosppart =  base[base['nat_jur'] == ].groupby(['ano_inter']).agg({'morte':'sum'})\n",
    "\n",
    "losuti_S =  base[(base['regiao'] == 'S')&(base['uti']==1)].groupby(['ano_inter']).agg({'los_uti':'mean'}).reset_index()\n",
    "losuti_N =  base[(base['regiao'] == 'N')&(base['uti']==1)].groupby(['ano_inter']).agg({'los_uti':'mean'}).reset_index()\n",
    "losuti_NE =  base[(base['regiao'] == 'NE')&(base['uti']==1)].groupby(['ano_inter']).agg({'los_uti':'mean'}).reset_index()\n",
    "losuti_SE =  base[(base['regiao'] == 'SE')&(base['uti']==1)].groupby(['ano_inter']).agg({'los_uti':'mean'}).reset_index()\n",
    "losuti_CO =  base[(base['regiao'] == 'CO')&(base['uti']==1)].groupby(['ano_inter']).agg({'los_uti':'mean'}).reset_index()\n",
    "\n",
    "r = [0,6,12,18,24,30,36,42,48]\n",
    "r2 = np.array(r) + 1\n",
    "r3 = np.array(r2) + 1\n",
    "r4 = np.array(r3) + 1\n",
    "r5 = np.array(r4) + 1\n",
    "#r2 = [0.5,1.5,2.5,3.5,4.5,5.5,6.5,7.5,8.5,9.5]\n",
    "#g3_bars_bottom = round((losuti_homens/losuti_total)*100)['los_uti']\n",
    "#g3_bars_top = round((losuti_mulheres/losuti_total)*100)['los_uti']\n",
    "\n",
    "fig, ax = plt.subplots(1,1,sharex=True,sharey=True,)\n",
    "#p1 = ax1.bar(r, g3_bars_bottom, edgecolor='white', color = '#380282' , label='Homens')\n",
    "#p2 = ax1.bar(r, g3_bars_top, bottom=g3_bars_bottom, edgecolor='white', color = '#DC143C', label='Mulheres')\n",
    "\n",
    "p1 = ax.bar(r, round(losuti_S['los_uti'],1), color = '#442288', width = 0.9, label='Sul')\n",
    "p2 = ax.bar(r2, round(losuti_N['los_uti'],1), color = '#6CA2EA',width = 0.9, label='Norte')\n",
    "p3 = ax.bar(r3, round(losuti_NE['los_uti'],1), color = '#FED23F',width = 0.9, label='Nordeste')\n",
    "p4 = ax.bar(r4, round(losuti_SE['los_uti'],1), color = '#B5D33D',width = 0.9, label='Sudeste')\n",
    "p5 = ax.bar(r5, round(losuti_CO['los_uti'],1), color = '#EB7D5B',width = 0.9, label='Centro Oeste')\n",
    "\n",
    "ax.set_xticks(r3, [\"2011\",\"2012\",\"2013\",\"2014\",\"2015\",\"2016\",\"2017\",\"2018\",\"2019\"])\n",
    "#ax1.set_yticks([0,25,50,75,100],['0%','25%','50%','75%','100%'])\n",
    "ax.set_ylabel('Days', fontweight='bold')\n",
    "ax.set_xlabel('Years', fontweight='bold')\n",
    "ax.set_title(\"Average LOS Uti\", fontweight='bold')\n",
    "ax.bar_label(p1, label_type='edge', fontweight='bold')\n",
    "ax.bar_label(p2, label_type='edge', fontweight='bold')\n",
    "ax.bar_label(p3, label_type='edge', fontweight='bold')\n",
    "ax.bar_label(p4, label_type='edge', fontweight='bold')\n",
    "ax.bar_label(p5, label_type='edge', fontweight='bold')\n",
    "\n",
    "fig.set_facecolor(\"#E5F2A5\")\n",
    "handles, labels = ax.get_legend_handles_labels()\n",
    "fig.set_figheight(8)\n",
    "fig.set_figwidth(20)\n",
    "fig.legend(handles, labels, loc = (0.45, 0.01), ncol=2, labelspacing=0.)\n",
    "plt.savefig('../images/los_by_region.png',dpi=1200)\n",
    "plt.show()"
   ]
  },
  {
   "cell_type": "markdown",
   "metadata": {},
   "source": [
    "### Uso de UTI por tipo de hospital"
   ]
  },
  {
   "cell_type": "code",
   "execution_count": null,
   "metadata": {},
   "outputs": [],
   "source": [
    "# uti_idade = base[base['uti']==1].groupby(['ano_inter','idade_grupo_who']).agg({'uti':'sum'}).reset_index()\n",
    "\n",
    "uti_hosppublico = base[base['nat_jur'] == 'Administração Pública'].groupby(['ano_inter']).agg({'uti':'sum'}).reset_index()\n",
    "uti_hosppart = base[base['nat_jur'] == 'Entidades Empresariais'].groupby(['ano_inter']).agg({'uti':'sum'}).reset_index()\n",
    "uti_hospong = base[base['nat_jur'] == 'Entidades sem Fins Lucrativos'].groupby(['ano_inter']).agg({'uti':'sum'}).reset_index()\n",
    "\n",
    "r = [0,2,4,6,8,10,12,14,16]\n",
    "r2 = [x+0.5 for x in r]\n",
    "r3 = [x+1 for x in r]\n",
    "\n",
    "fig, ax1 = plt.subplots(1,1,sharex=True,sharey=True,)\n",
    "\n",
    "p1 = ax1.bar(r, round((uti_hosppublico[\"uti\"]/admissoes_hosppublico.reset_index()[\"id\"])*100,1), color = 'darkgreen', width = 0.4, label='Hospital Público')\n",
    "p2 = ax1.bar(r2, round((uti_hosppart[\"uti\"]/admissoes_hosppart.reset_index()[\"id\"])*100,1), color = 'navy',width = 0.4, label='Hospital Privado')\n",
    "p3 = ax1.bar(r3, round((uti_hospong[\"uti\"]/admissoes_hospong.reset_index()[\"id\"])*100,1), color = 'orange',width = 0.4, label='Hospital sem Fins Lucrativos')\n",
    "\n",
    "ax1.set_xticks(r2, [\"2011\",\"2012\",\"2013\",\"2014\",\"2015\",\"2016\",\"2017\",\"2018\",\"2019\"])\n",
    "# ax1.set_yticks([0,5,10,5,100],['0%','25%','50%','75%','100%'])\n",
    "ax1.set_ylabel('Proportion', fontweight='bold')\n",
    "ax1.set_xlabel('Years', fontweight='bold')\n",
    "\n",
    "ax1.set_title(\"Proportion of ICU\", fontweight='bold')\n",
    "ax1.bar_label(p1, label_type='edge', fontweight='bold')\n",
    "ax1.bar_label(p2, label_type='edge', fontweight='bold')\n",
    "ax1.bar_label(p3, label_type='edge', fontweight='bold')\n",
    "\n",
    "fig.set_facecolor(\"#E5F2A5\")\n",
    "handles, labels = ax1.get_legend_handles_labels()\n",
    "fig.set_figheight(6)\n",
    "fig.set_figwidth(10)\n",
    "fig.legend(handles, labels, loc = (0.2, 0.01), ncol=3, labelspacing=0.)\n",
    "plt.savefig('../images/uti_by_hospital.png',dpi=1200)\n",
    "plt.show()"
   ]
  },
  {
   "cell_type": "markdown",
   "metadata": {},
   "source": [
    "### Uso de uti por idade e ano"
   ]
  },
  {
   "cell_type": "code",
   "execution_count": null,
   "metadata": {},
   "outputs": [],
   "source": [
    "from numpy import append\n",
    "\n",
    "\n",
    "uti_idade = base[base['uti']==1].groupby(['ano_inter','idade_grupo_who']).agg({'uti':'sum'}).reset_index()\n",
    "\n",
    "r = [1,2,3,4,5,6,7,8,9,10,11,12,13,14]\n",
    "r2 = [x+0.5 for x in r]\n",
    "r3 = [x+1 for x in r]\n",
    "# print(uti_idade[uti_idade[\"ano_inter\"]==2011])\n",
    "\n",
    "fig, (ax1,ax2,ax3) = plt.subplots(3,1,sharey=True,)\n",
    "\n",
    "p1 = ax1.bar(r,uti_idade[uti_idade[\"ano_inter\"]==2011][\"uti\"], width =1, edgecolor=\"black\", color = 'darkgreen', label=\"2011\")\n",
    "p2 = ax2.bar(r, uti_idade[uti_idade[\"ano_inter\"]==2015][\"uti\"], width =1, edgecolor=\"black\", color = 'navy',label=\"2015\")\n",
    "p3 = ax3.bar(r, uti_idade[uti_idade[\"ano_inter\"]==2019][\"uti\"], width =1, edgecolor=\"black\", color = 'orange',label=\"2019\")\n",
    "\n",
    "ax1.set_xticks(r,uti_idade[uti_idade[\"ano_inter\"]==2011][\"idade_grupo_who\"])\n",
    "ax2.set_xticks(r,uti_idade[uti_idade[\"ano_inter\"]==2015][\"idade_grupo_who\"])\n",
    "ax3.set_xticks(r,uti_idade[uti_idade[\"ano_inter\"]==2019][\"idade_grupo_who\"])\n",
    "\n",
    "ax1.set_ylabel('Use of ICU in 2011', fontweight='bold')\n",
    "ax1.set_xlabel('idade_grupo_who', fontweight='bold')\n",
    "\n",
    "ax2.set_ylabel('Use of ICU in 2015', fontweight='bold')\n",
    "ax2.set_xlabel('idade_grupo_who', fontweight='bold')\n",
    "\n",
    "ax3.set_ylabel('Use of ICU in 2019', fontweight='bold')\n",
    "ax3.set_xlabel('idade_grupo_who', fontweight='bold')\n",
    "\n",
    "\n",
    "ax1.set_title(\"Use of ICU by age\", fontweight='bold')\n",
    "ax1.bar_label(p1, label_type='edge', fontweight='bold')\n",
    "ax2.bar_label(p2, label_type='edge', fontweight='bold')\n",
    "ax3.bar_label(p3, label_type='edge', fontweight='bold')\n",
    "\n",
    "fig.set_facecolor(\"#E5F2A5\")\n",
    "fig.set_figheight(15)\n",
    "fig.set_figwidth(10)\n",
    "plt.savefig('../images/use_of_uti_by_age.png',dpi=1200)\n",
    "plt.show()"
   ]
  },
  {
   "cell_type": "markdown",
   "metadata": {},
   "source": [
    "### Taxa de letalidade UTI"
   ]
  },
  {
   "cell_type": "code",
   "execution_count": null,
   "metadata": {},
   "outputs": [],
   "source": [
    "dflet_uti = base[base['uti']==1].groupby(['ano_inter','idade_grupo_who']).agg({'id':'count','morte':'sum'}).reset_index()\n",
    "dflet_uti.columns = ['ano_inter','idade_grupo_who','admissoes','num']\n",
    "#df_merged = pd.merge(pop_ref, df,  how='left', left_on=['year','idade_grupo_who'], right_on=['ano_inter','idade_grupo_who']) # junta a quantidade por ano por faixa etária com a população de referencia\n",
    "dflet_uti['taxa'] = dflet_uti['num']/dflet_uti['admissoes'] # calcula a taxa\n",
    "dfletalidade_uti = pd.merge(dflet_uti, dfWHO,  how='left', left_on=['idade_grupo_who'], right_on=['age_group']) # junta o dataframe com a proporção do WHO\n",
    "dfletalidade_uti['obitos_esp'] = dfletalidade_uti['taxa']*dfletalidade_uti['world_avg_dec'] # calcula a proporção da quantidade esperados\n",
    "dfletalidade_uti = dfletalidade_uti.groupby(['ano_inter']).agg({'num':'sum','obitos_esp':'sum','admissoes':'sum','world_avg_dec':'sum'}).reset_index() # agrupa por ANO\n",
    "# tx = obts esp / pop\n",
    "#somar as faixas etarias do ano e dividir pela pop de ref total\n",
    "dfletalidade_uti['taxa_ajustada'] = dfletalidade_uti['obitos_esp']/dfletalidade_uti['world_avg_dec']\n",
    "dfletalidade_uti['taxa_ajustada_100mil'] = (dfletalidade_uti['taxa_ajustada']*100000).apply(np.ceil)\n",
    "dfletalidade_uti['taxa_bruta_100mil'] = (dfletalidade_uti['num']/dfletalidade_uti['admissoes'])*100000\n",
    "dfletalidade_uti"
   ]
  },
  {
   "cell_type": "code",
   "execution_count": null,
   "metadata": {},
   "outputs": [],
   "source": [
    "tx_let_uti = round((dfletalidade_uti['taxa_ajustada'])*100,4)\n",
    "\n",
    "r = [0,1,2,3,4,5,6,7,8]\n",
    "\n",
    "fig, ax1 = plt.subplots(1,1,sharex=True,)\n",
    "p1 = ax1.plot(r, tx_let_uti, marker='o', markerfacecolor='#380282', markersize=4, color = '#380282' , label='Mortality rate')\n",
    "\n",
    "ax1.set_xticks(r, [\"2011\",\"2012\",\"2013\",\"2014\",\"2015\",\"2016\",\"2017\",\"2018\",\"2019\"])\n",
    "ax1.set_yticks([0,10,20,30,40,50,60],['0%','10%','20%','30%','40%','50%','60%'])\n",
    "ax1.set_ylabel('Proportion', fontweight='bold')\n",
    "ax1.set_title(\"Lethality Rate\", fontweight='bold')\n",
    "a = [1,-1,1,-1,1,-1,1,-1,1,-1]\n",
    "\n",
    "for i in range(len(tx_let_uti)):\n",
    "    ax1.text(r[i], tx_let_uti[i]+(a[i])*2.2, \"%.4f\" %tx_let_uti[i], ha=\"center\", fontweight='bold')\n",
    "    \n",
    "fig.set_facecolor(\"#E5F2A5\")\n",
    "\n",
    "fig.set_figheight(6)\n",
    "fig.set_figwidth(12)\n",
    "plt.savefig('../images/letality_ratio_uti.png',dpi=1200)\n",
    "plt.show()"
   ]
  },
  {
   "cell_type": "markdown",
   "metadata": {},
   "source": [
    "# Análise da Base SIM"
   ]
  },
  {
   "cell_type": "code",
   "execution_count": null,
   "metadata": {},
   "outputs": [],
   "source": [
    "base.head()"
   ]
  },
  {
   "cell_type": "code",
   "execution_count": null,
   "metadata": {},
   "outputs": [],
   "source": [
    "base.columns"
   ]
  },
  {
   "cell_type": "code",
   "execution_count": null,
   "metadata": {},
   "outputs": [],
   "source": [
    "base_mortalidade = base[['estado','regiao','sexo','raca_cor','idade_real_anos','los_hosp','los_uti','uti','diag_princ_trim_upper','nat_jur','morte']]"
   ]
  },
  {
   "cell_type": "code",
   "execution_count": null,
   "metadata": {},
   "outputs": [],
   "source": [
    "base_losuti = base[base['uti']==1][['estado','regiao','sexo','raca_cor','idade_real_anos','diag_princ_trim_upper','nat_jur','los_uti']]"
   ]
  },
  {
   "cell_type": "code",
   "execution_count": null,
   "metadata": {},
   "outputs": [],
   "source": [
    "base_mortalidade.to_csv('../data/base_mortalidade.csv')\n",
    "base_losuti.to_csv('../data/base_losuti.csv')"
   ]
  },
  {
   "cell_type": "code",
   "execution_count": null,
   "metadata": {},
   "outputs": [],
   "source": [
    "sim2020 = pd.read_csv('../data/Mortalidade_Geral_2020.csv',sep=';')"
   ]
  },
  {
   "cell_type": "code",
   "execution_count": null,
   "metadata": {},
   "outputs": [],
   "source": [
    "sim2020"
   ]
  },
  {
   "cell_type": "code",
   "execution_count": null,
   "metadata": {},
   "outputs": [],
   "source": [
    "sim2020.columns"
   ]
  }
 ],
 "metadata": {
  "kernelspec": {
   "display_name": "Python 3.8.10 64-bit",
   "language": "python",
   "name": "python3"
  },
  "language_info": {
   "codemirror_mode": {
    "name": "ipython",
    "version": 3
   },
   "file_extension": ".py",
   "mimetype": "text/x-python",
   "name": "python",
   "nbconvert_exporter": "python",
   "pygments_lexer": "ipython3",
   "version": "3.8.10"
  },
  "orig_nbformat": 4,
  "vscode": {
   "interpreter": {
    "hash": "916dbcbb3f70747c44a77c7bcd40155683ae19c65e1c03b4aa3499c5328201f1"
   }
  }
 },
 "nbformat": 4,
 "nbformat_minor": 2
}
